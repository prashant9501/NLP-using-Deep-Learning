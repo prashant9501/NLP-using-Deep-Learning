{
  "nbformat": 4,
  "nbformat_minor": 0,
  "metadata": {
    "colab": {
      "provenance": []
    },
    "kernelspec": {
      "name": "python3",
      "display_name": "Python 3"
    },
    "language_info": {
      "name": "python"
    }
  },
  "cells": [
    {
      "cell_type": "code",
      "execution_count": 1,
      "metadata": {
        "colab": {
          "base_uri": "https://localhost:8080/"
        },
        "id": "1t0OerlQ-omt",
        "outputId": "b5359671-aea8-43cc-b24a-a86b4cb0ed7d"
      },
      "outputs": [
        {
          "output_type": "stream",
          "name": "stdout",
          "text": [
            "Loading data...\n",
            "Downloading data from https://storage.googleapis.com/tensorflow/tf-keras-datasets/imdb.npz\n",
            "17464789/17464789 [==============================] - 0s 0us/step\n",
            "25000 train sequences\n",
            "25000 test sequences\n"
          ]
        }
      ],
      "source": [
        "import numpy as np\n",
        "np.random.seed(1337)  # for reproducibility\n",
        "\n",
        "from tensorflow.keras.preprocessing import sequence\n",
        "from tensorflow.keras.models import Sequential\n",
        "from tensorflow.keras.layers import Dense, Activation, Embedding, LSTM\n",
        "from tensorflow.keras.datasets import imdb\n",
        "\n",
        "# Parameters\n",
        "max_features = 20000\n",
        "maxlen = 80  # cut texts after this number of words (among top max_features most common words)\n",
        "batch_size = 32\n",
        "\n",
        "print('Loading data...')\n",
        "(X_train, y_train), (X_test, y_test) = imdb.load_data(num_words=max_features)\n",
        "print(len(X_train), 'train sequences')\n",
        "print(len(X_test), 'test sequences')\n",
        "\n",
        "\n"
      ]
    },
    {
      "cell_type": "code",
      "source": [
        "print('Pad sequences (samples x time)')\n",
        "X_train = sequence.pad_sequences(X_train, maxlen=maxlen)\n",
        "X_test = sequence.pad_sequences(X_test, maxlen=maxlen)\n",
        "print('X_train shape:', X_train.shape)\n",
        "print('X_test shape:', X_test.shape)\n",
        "\n"
      ],
      "metadata": {
        "colab": {
          "base_uri": "https://localhost:8080/"
        },
        "id": "1QwQ2Hoy-u-x",
        "outputId": "2237797e-25fe-44a4-c796-66543b383669"
      },
      "execution_count": 2,
      "outputs": [
        {
          "output_type": "stream",
          "name": "stdout",
          "text": [
            "Pad sequences (samples x time)\n",
            "X_train shape: (25000, 80)\n",
            "X_test shape: (25000, 80)\n"
          ]
        }
      ]
    },
    {
      "cell_type": "code",
      "source": [
        "print('Build model...')\n",
        "model = Sequential()\n",
        "model.add(Embedding(max_features, 128, input_length=maxlen))\n",
        "model.add(LSTM(128, dropout=0.2, recurrent_dropout=0.2))\n",
        "model.add(Dense(1))\n",
        "model.add(Activation('sigmoid'))\n",
        "\n"
      ],
      "metadata": {
        "colab": {
          "base_uri": "https://localhost:8080/"
        },
        "id": "nY7dU3e1-x5R",
        "outputId": "28b57af7-150b-4dce-e440-cb108fe1bdf4"
      },
      "execution_count": 3,
      "outputs": [
        {
          "output_type": "stream",
          "name": "stdout",
          "text": [
            "Build model...\n"
          ]
        }
      ]
    },
    {
      "cell_type": "code",
      "source": [
        "# Compile the model\n",
        "model.compile(loss='binary_crossentropy',\n",
        "              optimizer='adam',\n",
        "              metrics=['accuracy'])\n",
        "\n"
      ],
      "metadata": {
        "id": "9KAhBYES-0pK"
      },
      "execution_count": 4,
      "outputs": []
    },
    {
      "cell_type": "code",
      "source": [
        "print('Train...')\n",
        "model.fit(X_train, y_train, batch_size=batch_size, epochs=15,\n",
        "          validation_data=(X_test, y_test))\n",
        "\n"
      ],
      "metadata": {
        "colab": {
          "base_uri": "https://localhost:8080/"
        },
        "id": "nfByu7Cc-3dF",
        "outputId": "bd17f73d-f2d1-4bae-b3f6-f2b3e38185c4"
      },
      "execution_count": null,
      "outputs": [
        {
          "output_type": "stream",
          "name": "stdout",
          "text": [
            "Train...\n",
            "Epoch 1/15\n",
            "782/782 [==============================] - 296s 372ms/step - loss: 0.4304 - accuracy: 0.7960 - val_loss: 0.3658 - val_accuracy: 0.8398\n",
            "Epoch 2/15\n",
            "782/782 [==============================] - 287s 367ms/step - loss: 0.2613 - accuracy: 0.8929 - val_loss: 0.3938 - val_accuracy: 0.8295\n",
            "Epoch 3/15\n",
            "782/782 [==============================] - 275s 352ms/step - loss: 0.1688 - accuracy: 0.9361 - val_loss: 0.4558 - val_accuracy: 0.8272\n",
            "Epoch 4/15\n",
            "782/782 [==============================] - 278s 355ms/step - loss: 0.1123 - accuracy: 0.9601 - val_loss: 0.5400 - val_accuracy: 0.8214\n",
            "Epoch 5/15\n",
            "782/782 [==============================] - 268s 342ms/step - loss: 0.0771 - accuracy: 0.9721 - val_loss: 0.6879 - val_accuracy: 0.8080\n",
            "Epoch 6/15\n",
            "782/782 [==============================] - 265s 339ms/step - loss: 0.0624 - accuracy: 0.9782 - val_loss: 0.7224 - val_accuracy: 0.8113\n",
            "Epoch 7/15\n",
            "782/782 [==============================] - 269s 344ms/step - loss: 0.0438 - accuracy: 0.9864 - val_loss: 0.7728 - val_accuracy: 0.8152\n",
            "Epoch 8/15\n",
            "782/782 [==============================] - 273s 349ms/step - loss: 0.0286 - accuracy: 0.9910 - val_loss: 0.8938 - val_accuracy: 0.8138\n",
            "Epoch 9/15\n",
            "463/782 [================>.............] - ETA: 1:32 - loss: 0.0214 - accuracy: 0.9932"
          ]
        }
      ]
    },
    {
      "cell_type": "code",
      "source": [
        "# Evaluate the model\n",
        "score, acc = model.evaluate(X_test, y_test, batch_size=batch_size)\n",
        "print('Test score:', score)\n",
        "print('Test accuracy:', acc)\n"
      ],
      "metadata": {
        "id": "Z1NQoBN1-2ts"
      },
      "execution_count": null,
      "outputs": []
    },
    {
      "cell_type": "code",
      "source": [],
      "metadata": {
        "id": "yZEBWTXq-8pm"
      },
      "execution_count": null,
      "outputs": []
    }
  ]
}
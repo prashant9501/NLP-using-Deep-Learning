{
  "cells": [
    {
      "cell_type": "markdown",
      "id": "ee738e22",
      "metadata": {
        "id": "ee738e22"
      },
      "source": [
        "## Load the Tweets Dataset"
      ]
    },
    {
      "cell_type": "code",
      "execution_count": 1,
      "id": "951e6f03",
      "metadata": {
        "id": "951e6f03"
      },
      "outputs": [],
      "source": [
        "import nltk\n",
        "import matplotlib.pyplot as plt\n",
        "import numpy as np\n",
        "import pandas as pd\n",
        "pd.set_option(\"display.max_colwidth\", 200)\n",
        "\n",
        "# from sklearn.model_selection import cross_val_score\n",
        "# from sklearn.model_selection import StratifiedKFold\n",
        "# from sklearn.linear_model import LogisticRegression\n",
        "# from sklearn.pipeline import Pipeline"
      ]
    },
    {
      "cell_type": "code",
      "execution_count": 3,
      "id": "6f789056",
      "metadata": {
        "colab": {
          "base_uri": "https://localhost:8080/",
          "height": 310
        },
        "id": "6f789056",
        "outputId": "30adee46-d682-42a1-fe8f-2b94aa7c2703"
      },
      "outputs": [
        {
          "output_type": "execute_result",
          "data": {
            "text/plain": [
              "   label  \\\n",
              "0      1   \n",
              "1      1   \n",
              "2      1   \n",
              "3      1   \n",
              "4      0   \n",
              "\n",
              "                                                                                                                                 tweet  \\\n",
              "0     #fingerprint #Pregnancy Test https://goo.gl/h1MfQV #android #apps #beautiful #cute #health #igers #iphoneonly #iphonesia #iphone   \n",
              "1  Finally a transparant silicon case ^^ Thanks to my uncle :) #yay #Sony #Xperia #S #sonyexperias… http://instagram.com/p/YGEt5JC6JM/   \n",
              "2          We love this! Would you go? #talk #makememories #unplug #relax #iphone #smartphone #wifi #connect... http://fb.me/6N3LsUpCu   \n",
              "3                     I'm wired I know I'm George I was made that way ;) #iphone #cute #daventry #home http://instagr.am/p/Li_5_ujS4k/   \n",
              "4         What amazing service! Apple won't even talk to me about a question I have unless I pay them $19.95 for their stupid support!   \n",
              "\n",
              "                                                                                               cleaned_tweets  \\\n",
              "0             fingerprint pregnancy test android apps beautiful cute health igers iphoneonly iphonesia iphone   \n",
              "1                                  finally transparant silicon case thanks uncle yay sony xperia sonyexperias   \n",
              "2                           love this would you talk makememories unplug relax iphone smartphone wifi connect   \n",
              "3                                                wired know george wa made that way iphone cute daventry home   \n",
              "4  what amazing service apple will not even talk about question have unless pay them for their stupid support   \n",
              "\n",
              "                                                                  cleaned_tweets_without_stopwords  \n",
              "0  fingerprint pregnancy test android apps beautiful cute health igers iphoneonly iphonesia iphone  \n",
              "1                       finally transparant silicon case thanks uncle yay sony xperia sonyexperias  \n",
              "2                               love talk makememories unplug relax iphone smartphone wifi connect  \n",
              "3                                                  wired know george way iphone cute daventry home  \n",
              "4                                    amazing service apple talk question unless pay stupid support  "
            ],
            "text/html": [
              "\n",
              "  <div id=\"df-a7791f0b-17f0-443f-9389-345d8ee49853\" class=\"colab-df-container\">\n",
              "    <div>\n",
              "<style scoped>\n",
              "    .dataframe tbody tr th:only-of-type {\n",
              "        vertical-align: middle;\n",
              "    }\n",
              "\n",
              "    .dataframe tbody tr th {\n",
              "        vertical-align: top;\n",
              "    }\n",
              "\n",
              "    .dataframe thead th {\n",
              "        text-align: right;\n",
              "    }\n",
              "</style>\n",
              "<table border=\"1\" class=\"dataframe\">\n",
              "  <thead>\n",
              "    <tr style=\"text-align: right;\">\n",
              "      <th></th>\n",
              "      <th>label</th>\n",
              "      <th>tweet</th>\n",
              "      <th>cleaned_tweets</th>\n",
              "      <th>cleaned_tweets_without_stopwords</th>\n",
              "    </tr>\n",
              "  </thead>\n",
              "  <tbody>\n",
              "    <tr>\n",
              "      <th>0</th>\n",
              "      <td>1</td>\n",
              "      <td>#fingerprint #Pregnancy Test https://goo.gl/h1MfQV #android #apps #beautiful #cute #health #igers #iphoneonly #iphonesia #iphone</td>\n",
              "      <td>fingerprint pregnancy test android apps beautiful cute health igers iphoneonly iphonesia iphone</td>\n",
              "      <td>fingerprint pregnancy test android apps beautiful cute health igers iphoneonly iphonesia iphone</td>\n",
              "    </tr>\n",
              "    <tr>\n",
              "      <th>1</th>\n",
              "      <td>1</td>\n",
              "      <td>Finally a transparant silicon case ^^ Thanks to my uncle :) #yay #Sony #Xperia #S #sonyexperias… http://instagram.com/p/YGEt5JC6JM/</td>\n",
              "      <td>finally transparant silicon case thanks uncle yay sony xperia sonyexperias</td>\n",
              "      <td>finally transparant silicon case thanks uncle yay sony xperia sonyexperias</td>\n",
              "    </tr>\n",
              "    <tr>\n",
              "      <th>2</th>\n",
              "      <td>1</td>\n",
              "      <td>We love this! Would you go? #talk #makememories #unplug #relax #iphone #smartphone #wifi #connect... http://fb.me/6N3LsUpCu</td>\n",
              "      <td>love this would you talk makememories unplug relax iphone smartphone wifi connect</td>\n",
              "      <td>love talk makememories unplug relax iphone smartphone wifi connect</td>\n",
              "    </tr>\n",
              "    <tr>\n",
              "      <th>3</th>\n",
              "      <td>1</td>\n",
              "      <td>I'm wired I know I'm George I was made that way ;) #iphone #cute #daventry #home http://instagr.am/p/Li_5_ujS4k/</td>\n",
              "      <td>wired know george wa made that way iphone cute daventry home</td>\n",
              "      <td>wired know george way iphone cute daventry home</td>\n",
              "    </tr>\n",
              "    <tr>\n",
              "      <th>4</th>\n",
              "      <td>0</td>\n",
              "      <td>What amazing service! Apple won't even talk to me about a question I have unless I pay them $19.95 for their stupid support!</td>\n",
              "      <td>what amazing service apple will not even talk about question have unless pay them for their stupid support</td>\n",
              "      <td>amazing service apple talk question unless pay stupid support</td>\n",
              "    </tr>\n",
              "  </tbody>\n",
              "</table>\n",
              "</div>\n",
              "    <div class=\"colab-df-buttons\">\n",
              "\n",
              "  <div class=\"colab-df-container\">\n",
              "    <button class=\"colab-df-convert\" onclick=\"convertToInteractive('df-a7791f0b-17f0-443f-9389-345d8ee49853')\"\n",
              "            title=\"Convert this dataframe to an interactive table.\"\n",
              "            style=\"display:none;\">\n",
              "\n",
              "  <svg xmlns=\"http://www.w3.org/2000/svg\" height=\"24px\" viewBox=\"0 -960 960 960\">\n",
              "    <path d=\"M120-120v-720h720v720H120Zm60-500h600v-160H180v160Zm220 220h160v-160H400v160Zm0 220h160v-160H400v160ZM180-400h160v-160H180v160Zm440 0h160v-160H620v160ZM180-180h160v-160H180v160Zm440 0h160v-160H620v160Z\"/>\n",
              "  </svg>\n",
              "    </button>\n",
              "\n",
              "  <style>\n",
              "    .colab-df-container {\n",
              "      display:flex;\n",
              "      gap: 12px;\n",
              "    }\n",
              "\n",
              "    .colab-df-convert {\n",
              "      background-color: #E8F0FE;\n",
              "      border: none;\n",
              "      border-radius: 50%;\n",
              "      cursor: pointer;\n",
              "      display: none;\n",
              "      fill: #1967D2;\n",
              "      height: 32px;\n",
              "      padding: 0 0 0 0;\n",
              "      width: 32px;\n",
              "    }\n",
              "\n",
              "    .colab-df-convert:hover {\n",
              "      background-color: #E2EBFA;\n",
              "      box-shadow: 0px 1px 2px rgba(60, 64, 67, 0.3), 0px 1px 3px 1px rgba(60, 64, 67, 0.15);\n",
              "      fill: #174EA6;\n",
              "    }\n",
              "\n",
              "    .colab-df-buttons div {\n",
              "      margin-bottom: 4px;\n",
              "    }\n",
              "\n",
              "    [theme=dark] .colab-df-convert {\n",
              "      background-color: #3B4455;\n",
              "      fill: #D2E3FC;\n",
              "    }\n",
              "\n",
              "    [theme=dark] .colab-df-convert:hover {\n",
              "      background-color: #434B5C;\n",
              "      box-shadow: 0px 1px 3px 1px rgba(0, 0, 0, 0.15);\n",
              "      filter: drop-shadow(0px 1px 2px rgba(0, 0, 0, 0.3));\n",
              "      fill: #FFFFFF;\n",
              "    }\n",
              "  </style>\n",
              "\n",
              "    <script>\n",
              "      const buttonEl =\n",
              "        document.querySelector('#df-a7791f0b-17f0-443f-9389-345d8ee49853 button.colab-df-convert');\n",
              "      buttonEl.style.display =\n",
              "        google.colab.kernel.accessAllowed ? 'block' : 'none';\n",
              "\n",
              "      async function convertToInteractive(key) {\n",
              "        const element = document.querySelector('#df-a7791f0b-17f0-443f-9389-345d8ee49853');\n",
              "        const dataTable =\n",
              "          await google.colab.kernel.invokeFunction('convertToInteractive',\n",
              "                                                    [key], {});\n",
              "        if (!dataTable) return;\n",
              "\n",
              "        const docLinkHtml = 'Like what you see? Visit the ' +\n",
              "          '<a target=\"_blank\" href=https://colab.research.google.com/notebooks/data_table.ipynb>data table notebook</a>'\n",
              "          + ' to learn more about interactive tables.';\n",
              "        element.innerHTML = '';\n",
              "        dataTable['output_type'] = 'display_data';\n",
              "        await google.colab.output.renderOutput(dataTable, element);\n",
              "        const docLink = document.createElement('div');\n",
              "        docLink.innerHTML = docLinkHtml;\n",
              "        element.appendChild(docLink);\n",
              "      }\n",
              "    </script>\n",
              "  </div>\n",
              "\n",
              "\n",
              "<div id=\"df-a03929b9-3d11-480a-a8e9-f4392bdd1395\">\n",
              "  <button class=\"colab-df-quickchart\" onclick=\"quickchart('df-a03929b9-3d11-480a-a8e9-f4392bdd1395')\"\n",
              "            title=\"Suggest charts\"\n",
              "            style=\"display:none;\">\n",
              "\n",
              "<svg xmlns=\"http://www.w3.org/2000/svg\" height=\"24px\"viewBox=\"0 0 24 24\"\n",
              "     width=\"24px\">\n",
              "    <g>\n",
              "        <path d=\"M19 3H5c-1.1 0-2 .9-2 2v14c0 1.1.9 2 2 2h14c1.1 0 2-.9 2-2V5c0-1.1-.9-2-2-2zM9 17H7v-7h2v7zm4 0h-2V7h2v10zm4 0h-2v-4h2v4z\"/>\n",
              "    </g>\n",
              "</svg>\n",
              "  </button>\n",
              "\n",
              "<style>\n",
              "  .colab-df-quickchart {\n",
              "      --bg-color: #E8F0FE;\n",
              "      --fill-color: #1967D2;\n",
              "      --hover-bg-color: #E2EBFA;\n",
              "      --hover-fill-color: #174EA6;\n",
              "      --disabled-fill-color: #AAA;\n",
              "      --disabled-bg-color: #DDD;\n",
              "  }\n",
              "\n",
              "  [theme=dark] .colab-df-quickchart {\n",
              "      --bg-color: #3B4455;\n",
              "      --fill-color: #D2E3FC;\n",
              "      --hover-bg-color: #434B5C;\n",
              "      --hover-fill-color: #FFFFFF;\n",
              "      --disabled-bg-color: #3B4455;\n",
              "      --disabled-fill-color: #666;\n",
              "  }\n",
              "\n",
              "  .colab-df-quickchart {\n",
              "    background-color: var(--bg-color);\n",
              "    border: none;\n",
              "    border-radius: 50%;\n",
              "    cursor: pointer;\n",
              "    display: none;\n",
              "    fill: var(--fill-color);\n",
              "    height: 32px;\n",
              "    padding: 0;\n",
              "    width: 32px;\n",
              "  }\n",
              "\n",
              "  .colab-df-quickchart:hover {\n",
              "    background-color: var(--hover-bg-color);\n",
              "    box-shadow: 0 1px 2px rgba(60, 64, 67, 0.3), 0 1px 3px 1px rgba(60, 64, 67, 0.15);\n",
              "    fill: var(--button-hover-fill-color);\n",
              "  }\n",
              "\n",
              "  .colab-df-quickchart-complete:disabled,\n",
              "  .colab-df-quickchart-complete:disabled:hover {\n",
              "    background-color: var(--disabled-bg-color);\n",
              "    fill: var(--disabled-fill-color);\n",
              "    box-shadow: none;\n",
              "  }\n",
              "\n",
              "  .colab-df-spinner {\n",
              "    border: 2px solid var(--fill-color);\n",
              "    border-color: transparent;\n",
              "    border-bottom-color: var(--fill-color);\n",
              "    animation:\n",
              "      spin 1s steps(1) infinite;\n",
              "  }\n",
              "\n",
              "  @keyframes spin {\n",
              "    0% {\n",
              "      border-color: transparent;\n",
              "      border-bottom-color: var(--fill-color);\n",
              "      border-left-color: var(--fill-color);\n",
              "    }\n",
              "    20% {\n",
              "      border-color: transparent;\n",
              "      border-left-color: var(--fill-color);\n",
              "      border-top-color: var(--fill-color);\n",
              "    }\n",
              "    30% {\n",
              "      border-color: transparent;\n",
              "      border-left-color: var(--fill-color);\n",
              "      border-top-color: var(--fill-color);\n",
              "      border-right-color: var(--fill-color);\n",
              "    }\n",
              "    40% {\n",
              "      border-color: transparent;\n",
              "      border-right-color: var(--fill-color);\n",
              "      border-top-color: var(--fill-color);\n",
              "    }\n",
              "    60% {\n",
              "      border-color: transparent;\n",
              "      border-right-color: var(--fill-color);\n",
              "    }\n",
              "    80% {\n",
              "      border-color: transparent;\n",
              "      border-right-color: var(--fill-color);\n",
              "      border-bottom-color: var(--fill-color);\n",
              "    }\n",
              "    90% {\n",
              "      border-color: transparent;\n",
              "      border-bottom-color: var(--fill-color);\n",
              "    }\n",
              "  }\n",
              "</style>\n",
              "\n",
              "  <script>\n",
              "    async function quickchart(key) {\n",
              "      const quickchartButtonEl =\n",
              "        document.querySelector('#' + key + ' button');\n",
              "      quickchartButtonEl.disabled = true;  // To prevent multiple clicks.\n",
              "      quickchartButtonEl.classList.add('colab-df-spinner');\n",
              "      try {\n",
              "        const charts = await google.colab.kernel.invokeFunction(\n",
              "            'suggestCharts', [key], {});\n",
              "      } catch (error) {\n",
              "        console.error('Error during call to suggestCharts:', error);\n",
              "      }\n",
              "      quickchartButtonEl.classList.remove('colab-df-spinner');\n",
              "      quickchartButtonEl.classList.add('colab-df-quickchart-complete');\n",
              "    }\n",
              "    (() => {\n",
              "      let quickchartButtonEl =\n",
              "        document.querySelector('#df-a03929b9-3d11-480a-a8e9-f4392bdd1395 button');\n",
              "      quickchartButtonEl.style.display =\n",
              "        google.colab.kernel.accessAllowed ? 'block' : 'none';\n",
              "    })();\n",
              "  </script>\n",
              "</div>\n",
              "\n",
              "    </div>\n",
              "  </div>\n"
            ],
            "application/vnd.google.colaboratory.intrinsic+json": {
              "type": "dataframe",
              "variable_name": "tweets",
              "summary": "{\n  \"name\": \"tweets\",\n  \"rows\": 7920,\n  \"fields\": [\n    {\n      \"column\": \"label\",\n      \"properties\": {\n        \"dtype\": \"number\",\n        \"std\": 0,\n        \"min\": 0,\n        \"max\": 1,\n        \"num_unique_values\": 2,\n        \"samples\": [\n          0,\n          1\n        ],\n        \"semantic_type\": \"\",\n        \"description\": \"\"\n      }\n    },\n    {\n      \"column\": \"tweet\",\n      \"properties\": {\n        \"dtype\": \"string\",\n        \"num_unique_values\": 7918,\n        \"samples\": [\n          \"My face as dad gave me cards worth \\u00a320, 000.00 #gay #shopping #boy #macbook #apple #blonde #pickofthe http://instagr.am/p/Uo5Ue7H7A8/\",\n          \"@skullcandy your product is brutal, 1 headphone always stops working. Get it together #Sony ftw\"\n        ],\n        \"semantic_type\": \"\",\n        \"description\": \"\"\n      }\n    },\n    {\n      \"column\": \"cleaned_tweets\",\n      \"properties\": {\n        \"dtype\": \"string\",\n        \"num_unique_values\": 7594,\n        \"samples\": [\n          \"just case you are wondering what about apple robot hater\",\n          \"sorry offend anybody this statement but apple crap company\"\n        ],\n        \"semantic_type\": \"\",\n        \"description\": \"\"\n      }\n    },\n    {\n      \"column\": \"cleaned_tweets_without_stopwords\",\n      \"properties\": {\n        \"dtype\": \"string\",\n        \"num_unique_values\": 7585,\n        \"samples\": [\n          \"iphone slowly braking screen cracked charge\",\n          \"make smartphones webos palm died android sstinkybad\"\n        ],\n        \"semantic_type\": \"\",\n        \"description\": \"\"\n      }\n    }\n  ]\n}"
            }
          },
          "metadata": {},
          "execution_count": 3
        }
      ],
      "source": [
        "tweets = pd.read_pickle(\"cleaned_tweets_v1.pkl\")\n",
        "tweets.head()"
      ]
    },
    {
      "cell_type": "code",
      "execution_count": 4,
      "id": "4fa23600",
      "metadata": {
        "colab": {
          "base_uri": "https://localhost:8080/"
        },
        "id": "4fa23600",
        "outputId": "8810370c-1c45-4e9c-cd57-22a6aae1cd32"
      },
      "outputs": [
        {
          "output_type": "execute_result",
          "data": {
            "text/plain": [
              "(7920, 4)"
            ]
          },
          "metadata": {},
          "execution_count": 4
        }
      ],
      "source": [
        "tweets.shape"
      ]
    },
    {
      "cell_type": "code",
      "execution_count": 25,
      "id": "5994bc1f",
      "metadata": {
        "id": "5994bc1f"
      },
      "outputs": [],
      "source": [
        "X = tweets['cleaned_tweets']\n",
        "y = tweets['label']\n",
        "\n",
        "# Set random seed for reproducibility\n",
        "np.random.seed(1337)\n"
      ]
    },
    {
      "cell_type": "code",
      "source": [
        "import pickle\n",
        "from sklearn.model_selection import train_test_split\n",
        "from keras.preprocessing.text import Tokenizer\n",
        "from keras.preprocessing.sequence import pad_sequences\n",
        "from collections import Counter\n",
        "\n",
        "# Train-test split\n",
        "X_train, X_test, y_train, y_test = train_test_split(X, y, test_size=0.2, random_state=42)"
      ],
      "metadata": {
        "id": "4NYUFIamHo6k"
      },
      "id": "4NYUFIamHo6k",
      "execution_count": 26,
      "outputs": []
    },
    {
      "cell_type": "code",
      "source": [
        "# Create vocabulary from the training set using Counter\n",
        "counter = Counter()\n",
        "for tweet in X_train:\n",
        "    counter.update(tweet.split())\n",
        "\n",
        "# Save the vocabulary\n",
        "vocab = set(counter.keys())\n",
        "\n",
        "# Save vocabulary as pkl and txt files\n",
        "with open('vocab.pkl', 'wb') as f:\n",
        "    pickle.dump(vocab, f)\n",
        "\n",
        "with open('vocab.txt', 'w') as f:\n",
        "    for word in vocab:\n",
        "        f.write(f\"{word}\\n\")"
      ],
      "metadata": {
        "id": "w3OQMeT-Ho25"
      },
      "id": "w3OQMeT-Ho25",
      "execution_count": 27,
      "outputs": []
    },
    {
      "cell_type": "code",
      "source": [
        "# Display the size of the vocabulary and the top 10 tokens\n",
        "print(f\"Vocabulary size: {len(vocab)}\")\n",
        "print(\"Top 10 tokens:\", counter.most_common(10))"
      ],
      "metadata": {
        "colab": {
          "base_uri": "https://localhost:8080/"
        },
        "id": "pLnImnToHo03",
        "outputId": "a62c7e7a-9478-4a5d-aed7-ba1e3139e8ff"
      },
      "id": "pLnImnToHo03",
      "execution_count": 28,
      "outputs": [
        {
          "output_type": "stream",
          "name": "stdout",
          "text": [
            "Vocabulary size: 13464\n",
            "Top 10 tokens: [('iphone', 3400), ('apple', 2289), ('the', 1592), ('samsung', 1098), ('and', 995), ('you', 914), ('new', 904), ('twitter', 890), ('for', 857), ('phone', 838)]\n"
          ]
        }
      ]
    },
    {
      "cell_type": "code",
      "source": [
        "# Find the maximum length of tweets in the training set\n",
        "max_length = max(len(tweet.split()) for tweet in X_train)\n",
        "max_length"
      ],
      "metadata": {
        "colab": {
          "base_uri": "https://localhost:8080/"
        },
        "id": "l-hukjBJNpff",
        "outputId": "f5cf5e95-19a5-4668-db0f-084343abf430"
      },
      "id": "l-hukjBJNpff",
      "execution_count": 29,
      "outputs": [
        {
          "output_type": "execute_result",
          "data": {
            "text/plain": [
              "45"
            ]
          },
          "metadata": {},
          "execution_count": 29
        }
      ]
    },
    {
      "cell_type": "code",
      "source": [
        "# Find the tweet with the maximum length\n",
        "longest_tweet = max(X_train, key=lambda tweet: len(tweet.split()))\n",
        "longest_tweet"
      ],
      "metadata": {
        "colab": {
          "base_uri": "https://localhost:8080/",
          "height": 54
        },
        "id": "U0snUwW4OMZI",
        "outputId": "81b400b3-4e83-4779-8a72-ee4d39324de7"
      },
      "id": "U0snUwW4OMZI",
      "execution_count": 30,
      "outputs": [
        {
          "output_type": "execute_result",
          "data": {
            "text/plain": [
              "'you know what apple suck that you cannot update the older ipads the newer io because there are many apps would love download but cannot because they are not compatible and are not forking out for new one when this one still good apple io'"
            ],
            "application/vnd.google.colaboratory.intrinsic+json": {
              "type": "string"
            }
          },
          "metadata": {},
          "execution_count": 30
        }
      ]
    },
    {
      "cell_type": "code",
      "source": [
        "# Pad the sequences\n",
        "X_train_pad = pad_sequences(X_train_seq, maxlen=max_length)\n",
        "X_test_pad = pad_sequences(X_test_seq, maxlen=max_length)\n",
        "\n",
        "# Shapes of the padded sequences\n",
        "print(\"X_train_pad shape:\", X_train_pad.shape)\n",
        "print(\"X_test_pad shape:\", X_test_pad.shape)\n"
      ],
      "metadata": {
        "colab": {
          "base_uri": "https://localhost:8080/"
        },
        "id": "m7-TTbN5Houx",
        "outputId": "1545cc7c-9fd4-4739-bf6f-3c34e49a8e2d"
      },
      "id": "m7-TTbN5Houx",
      "execution_count": 31,
      "outputs": [
        {
          "output_type": "stream",
          "name": "stdout",
          "text": [
            "X_train_pad shape: (6336, 45)\n",
            "X_test_pad shape: (1584, 45)\n"
          ]
        }
      ]
    },
    {
      "cell_type": "markdown",
      "source": [
        "# Deep LEarning Models"
      ],
      "metadata": {
        "id": "e3luyLtCPSes"
      },
      "id": "e3luyLtCPSes"
    },
    {
      "cell_type": "code",
      "source": [
        "from keras.utils import plot_model\n",
        "from keras.models import Sequential\n",
        "from keras.layers import Dense, Flatten, Embedding, Dropout\n",
        "from keras.layers import Conv1D, MaxPooling1D, LSTM\n",
        "from keras.models import load_model"
      ],
      "metadata": {
        "id": "bpG7H0trHomH"
      },
      "id": "bpG7H0trHomH",
      "execution_count": 33,
      "outputs": []
    },
    {
      "cell_type": "code",
      "source": [
        "embedding_dim = 50\n",
        "vocab_size = len(vocab)"
      ],
      "metadata": {
        "id": "UvlYtdEHO6oG"
      },
      "id": "UvlYtdEHO6oG",
      "execution_count": 64,
      "outputs": []
    },
    {
      "cell_type": "code",
      "source": [
        "# define the model\n",
        "def define_CNN_model():\n",
        "\n",
        "  model = Sequential()\n",
        "\n",
        "  model.add(Embedding(vocab_size, embedding_dim, input_length=max_length))\n",
        "\n",
        "  model.add(Conv1D(filters=32, kernel_size=8, activation='relu'))\n",
        "  model.add(MaxPooling1D(pool_size=2))\n",
        "\n",
        "  model.add(Flatten())\n",
        "  model.add(Dense(10, activation='relu'))\n",
        "  model.add(Dropout(0.5))\n",
        "  model.add(Dense(1, activation='sigmoid'))\n",
        "\n",
        "  # compile network\n",
        "  model.compile(loss='binary_crossentropy', optimizer='adam', metrics=['accuracy'])\n",
        "\n",
        "  return model"
      ],
      "metadata": {
        "id": "dhgjvr3XHojT"
      },
      "id": "dhgjvr3XHojT",
      "execution_count": 157,
      "outputs": []
    },
    {
      "cell_type": "code",
      "source": [
        "CNN_model = define_CNN_model()\n",
        "\n",
        "# summarize defined model\n",
        "CNN_model.summary()"
      ],
      "metadata": {
        "colab": {
          "base_uri": "https://localhost:8080/"
        },
        "id": "ZFN7yeh9HogT",
        "outputId": "dcbb9fa7-f725-4dd9-ee14-d27a1e511fdb"
      },
      "id": "ZFN7yeh9HogT",
      "execution_count": 158,
      "outputs": [
        {
          "output_type": "stream",
          "name": "stdout",
          "text": [
            "Model: \"sequential_18\"\n",
            "_________________________________________________________________\n",
            " Layer (type)                Output Shape              Param #   \n",
            "=================================================================\n",
            " embedding_18 (Embedding)    (None, 45, 50)            673200    \n",
            "                                                                 \n",
            " conv1d_8 (Conv1D)           (None, 38, 32)            12832     \n",
            "                                                                 \n",
            " max_pooling1d_8 (MaxPoolin  (None, 19, 32)            0         \n",
            " g1D)                                                            \n",
            "                                                                 \n",
            " flatten_6 (Flatten)         (None, 608)               0         \n",
            "                                                                 \n",
            " dense_36 (Dense)            (None, 10)                6090      \n",
            "                                                                 \n",
            " dropout_16 (Dropout)        (None, 10)                0         \n",
            "                                                                 \n",
            " dense_37 (Dense)            (None, 1)                 11        \n",
            "                                                                 \n",
            "=================================================================\n",
            "Total params: 692133 (2.64 MB)\n",
            "Trainable params: 692133 (2.64 MB)\n",
            "Non-trainable params: 0 (0.00 Byte)\n",
            "_________________________________________________________________\n"
          ]
        }
      ]
    },
    {
      "cell_type": "code",
      "source": [
        "# %%capture\n",
        "# !apt-get install -y graphviz\n",
        "# !pip install pydot\n",
        "# !pip install graphviz"
      ],
      "metadata": {
        "id": "zvSbFxfGTYtw"
      },
      "id": "zvSbFxfGTYtw",
      "execution_count": 159,
      "outputs": []
    },
    {
      "cell_type": "code",
      "execution_count": 160,
      "id": "7df90986",
      "metadata": {
        "colab": {
          "base_uri": "https://localhost:8080/",
          "height": 865
        },
        "id": "7df90986",
        "outputId": "1b7a060c-c235-4690-eede-52e734f27e53"
      },
      "outputs": [
        {
          "output_type": "execute_result",
          "data": {
            "image/png": "[encoded data removed]",
            "text/plain": [
              "<IPython.core.display.Image object>"
            ]
          },
          "metadata": {},
          "execution_count": 160
        }
      ],
      "source": [
        "from IPython.display import Image\n",
        "plot_model(CNN_model, to_file='CNN_model.png', show_shapes=True, show_layer_names=True)\n",
        "Image(filename='CNN_model.png')"
      ]
    },
    {
      "cell_type": "code",
      "execution_count": 161,
      "id": "405a0bbb",
      "metadata": {
        "colab": {
          "base_uri": "https://localhost:8080/"
        },
        "id": "405a0bbb",
        "outputId": "3c45bb39-1e0b-48cd-b732-1908f8b2a61a"
      },
      "outputs": [
        {
          "output_type": "stream",
          "name": "stdout",
          "text": [
            "Epoch 1/5\n",
            "45/45 - 3s - loss: 0.5874 - accuracy: 0.7471 - val_loss: 0.5142 - val_accuracy: 0.7413 - 3s/epoch - 57ms/step\n",
            "Epoch 2/5\n",
            "45/45 - 2s - loss: 0.4192 - accuracy: 0.7618 - val_loss: 0.2940 - val_accuracy: 0.8833 - 2s/epoch - 37ms/step\n",
            "Epoch 3/5\n",
            "45/45 - 2s - loss: 0.2928 - accuracy: 0.8458 - val_loss: 0.2692 - val_accuracy: 0.8864 - 2s/epoch - 41ms/step\n",
            "Epoch 4/5\n",
            "45/45 - 1s - loss: 0.2496 - accuracy: 0.8702 - val_loss: 0.2749 - val_accuracy: 0.8849 - 1s/epoch - 32ms/step\n",
            "Epoch 5/5\n",
            "45/45 - 1s - loss: 0.2248 - accuracy: 0.8957 - val_loss: 0.2802 - val_accuracy: 0.8801 - 1s/epoch - 26ms/step\n"
          ]
        },
        {
          "output_type": "stream",
          "name": "stderr",
          "text": [
            "/usr/local/lib/python3.10/dist-packages/keras/src/engine/training.py:3103: UserWarning: You are saving your model as an HDF5 file via `model.save()`. This file format is considered legacy. We recommend using instead the native Keras format, e.g. `model.save('my_model.keras')`.\n",
            "  saving_api.save_model(\n"
          ]
        }
      ],
      "source": [
        "# fit network\n",
        "CNN_model.fit(X_train_pad, y_train, epochs=5, batch_size=128, verbose=2, validation_split=0.1)\n",
        "\n",
        "# save the model\n",
        "CNN_model.save('CNN_model.h5')"
      ]
    },
    {
      "cell_type": "code",
      "source": [
        "# seems there is overfitting after the 3rd epoch, since the val_loss is increasing in further epochs."
      ],
      "metadata": {
        "id": "YYVmosAfbnXZ"
      },
      "id": "YYVmosAfbnXZ",
      "execution_count": null,
      "outputs": []
    },
    {
      "cell_type": "code",
      "execution_count": 162,
      "id": "cda01ee4",
      "metadata": {
        "colab": {
          "base_uri": "https://localhost:8080/"
        },
        "id": "cda01ee4",
        "outputId": "de040413-ea42-4364-d2a1-a3da5c814ae1"
      },
      "outputs": [
        {
          "output_type": "execute_result",
          "data": {
            "text/plain": [
              "[0.28675752878189087, 0.8901515007019043]"
            ]
          },
          "metadata": {},
          "execution_count": 162
        }
      ],
      "source": [
        "CNN_model.evaluate(X_test_pad, y_test, verbose=0)"
      ]
    },
    {
      "cell_type": "code",
      "source": [
        "# 88.5% accuracy on the test set as well!!"
      ],
      "metadata": {
        "id": "-XdVXCGUbsSD"
      },
      "id": "-XdVXCGUbsSD",
      "execution_count": 76,
      "outputs": []
    },
    {
      "cell_type": "code",
      "source": [
        " import nltk\n",
        "nltk.download('wordnet')\n",
        "\n",
        "from nltk.stem.wordnet import WordNetLemmatizer\n",
        "lemmatizer = WordNetLemmatizer()\n",
        "\n",
        "def tweet_cleaner(raw_tweet):\n",
        "    '''\n",
        "    This function cleans the raw tweet\n",
        "    '''\n",
        "    #Substituting contractions\n",
        "    # cleaned_tweet = contractions.fix(raw_tweet)\n",
        "\n",
        "    # User-mentions Removal\n",
        "    cleaned_tweet = re.sub(\"@[A-Za-z0-9]+\", \"\", raw_tweet)\n",
        "\n",
        "    # Hashtag Removal\n",
        "    cleaned_tweet = re.sub(\"#\", \"\", cleaned_tweet)\n",
        "\n",
        "    #Hyperlink Removal\n",
        "    cleaned_tweet = re.sub(r\"http\\S+\",\"\", cleaned_tweet)\n",
        "\n",
        "    # Punctuation, Special Characters and digits Removal (Retaining only the alphabets)\n",
        "    cleaned_tweet = re.sub(r\"[^a-zA-Z]\", \" \" , cleaned_tweet )\n",
        "\n",
        "    # convert the tweet into lowercase & get rid of any leading or trailing spaces\n",
        "    cleaned_tweet = cleaned_tweet.lower().strip()\n",
        "\n",
        "    # Retain only those token which have length > 2 characters\n",
        "    cleaned_tweet = [token for token in cleaned_tweet.split() if len(token)>2]\n",
        "\n",
        "    new_sent = ''\n",
        "    for token in cleaned_tweet:\n",
        "        new_sent = new_sent + lemmatizer.lemmatize(token) + ' '\n",
        "\n",
        "    return new_sent.strip()"
      ],
      "metadata": {
        "colab": {
          "base_uri": "https://localhost:8080/"
        },
        "id": "xG6ToNC0bz4m",
        "outputId": "0b4919af-0555-4a40-838f-cb4e8cb9eafc"
      },
      "id": "xG6ToNC0bz4m",
      "execution_count": 163,
      "outputs": [
        {
          "output_type": "stream",
          "name": "stderr",
          "text": [
            "[nltk_data] Downloading package wordnet to /root/nltk_data...\n",
            "[nltk_data]   Package wordnet is already up-to-date!\n"
          ]
        }
      ]
    },
    {
      "cell_type": "code",
      "source": [
        "# New tweet to predict\n",
        "new_tweet = \"this phone is awesome! #iphone @Apple\"\n",
        "\n",
        "cleaned_test_tweet = tweet_cleaner(new_tweet)\n",
        "print(cleaned_test_tweet)\n",
        "\n",
        "# Tokenize the input tweet\n",
        "new_tweet_seq = tokenizer.texts_to_sequences([cleaned_test_tweet])\n",
        "\n",
        "# Pad the sequence\n",
        "new_tweet_pad = pad_sequences(new_tweet_seq, maxlen=max_length)\n",
        "\n",
        "# Make predictions\n",
        "prediction = CNN_model.predict(new_tweet_pad, verbose=0)\n",
        "\n",
        "# Here \"prediction\" is a probability, so we are rounding it off to get either 0 or 1 as the final predicted class\n",
        "\n",
        "# Print the prediction\n",
        "print(prediction[0], \"Prediction:\", np.round(prediction[0]))"
      ],
      "metadata": {
        "colab": {
          "base_uri": "https://localhost:8080/"
        },
        "id": "1of6k2HgcQyI",
        "outputId": "90b06197-0dca-4027-cdfb-9451196b6ad3"
      },
      "id": "1of6k2HgcQyI",
      "execution_count": 164,
      "outputs": [
        {
          "output_type": "stream",
          "name": "stdout",
          "text": [
            "this phone awesome iphone\n",
            "[0.9220826] Prediction: [1.]\n"
          ]
        }
      ]
    },
    {
      "cell_type": "code",
      "source": [],
      "metadata": {
        "id": "CS69jeFWcqAt"
      },
      "id": "CS69jeFWcqAt",
      "execution_count": 164,
      "outputs": []
    },
    {
      "cell_type": "markdown",
      "source": [
        "# LSTM Model"
      ],
      "metadata": {
        "id": "ZfbPKWnfd8pT"
      },
      "id": "ZfbPKWnfd8pT"
    },
    {
      "cell_type": "code",
      "source": [
        "# Define a simple model for demonstration purposes\n",
        "def define_LSTM_model():\n",
        "    model = Sequential()\n",
        "    model.add(Embedding(vocab_size, embedding_dim, input_length=max_length))\n",
        "\n",
        "    # model.add(Conv1D(filters=32, kernel_size=8, activation='relu'))\n",
        "    # model.add(MaxPooling1D(pool_size=2))\n",
        "\n",
        "    model.add(LSTM(25, return_sequences=True))\n",
        "    # model.add(Dropout(0.5))\n",
        "    model.add(LSTM(25))\n",
        "\n",
        "    model.add(Dense(10, activation='relu'))\n",
        "    model.add(Dropout(0.5))\n",
        "    model.add(Dense(1, activation='sigmoid'))\n",
        "\n",
        "    model.compile(loss='binary_crossentropy', optimizer='adam', metrics=['accuracy'])\n",
        "    return model"
      ],
      "metadata": {
        "id": "bcM2_BOZeDSl"
      },
      "id": "bcM2_BOZeDSl",
      "execution_count": 165,
      "outputs": []
    },
    {
      "cell_type": "code",
      "source": [
        "LSTM_model = define_LSTM_model()\n",
        "\n",
        "# summarize defined model\n",
        "LSTM_model.summary()"
      ],
      "metadata": {
        "colab": {
          "base_uri": "https://localhost:8080/"
        },
        "id": "WHnUw74keGZt",
        "outputId": "e2c33564-55f7-4a78-ada1-cb4b8c1719c6"
      },
      "id": "WHnUw74keGZt",
      "execution_count": 166,
      "outputs": [
        {
          "output_type": "stream",
          "name": "stdout",
          "text": [
            "Model: \"sequential_19\"\n",
            "_________________________________________________________________\n",
            " Layer (type)                Output Shape              Param #   \n",
            "=================================================================\n",
            " embedding_19 (Embedding)    (None, 45, 50)            673200    \n",
            "                                                                 \n",
            " lstm_20 (LSTM)              (None, 45, 25)            7600      \n",
            "                                                                 \n",
            " lstm_21 (LSTM)              (None, 25)                5100      \n",
            "                                                                 \n",
            " dense_38 (Dense)            (None, 10)                260       \n",
            "                                                                 \n",
            " dropout_17 (Dropout)        (None, 10)                0         \n",
            "                                                                 \n",
            " dense_39 (Dense)            (None, 1)                 11        \n",
            "                                                                 \n",
            "=================================================================\n",
            "Total params: 686171 (2.62 MB)\n",
            "Trainable params: 686171 (2.62 MB)\n",
            "Non-trainable params: 0 (0.00 Byte)\n",
            "_________________________________________________________________\n"
          ]
        }
      ]
    },
    {
      "cell_type": "code",
      "source": [
        "plot_model(LSTM_model, to_file='LSTM_model.png', show_shapes=True, show_layer_names=True)\n",
        "Image(filename='LSTM_model.png')"
      ],
      "metadata": {
        "colab": {
          "base_uri": "https://localhost:8080/",
          "height": 754
        },
        "id": "J-h0j8VZeU7m",
        "outputId": "28ee628e-3543-4b3c-bc44-9c0f0d4fe2bd"
      },
      "id": "J-h0j8VZeU7m",
      "execution_count": 167,
      "outputs": [
        {
          "output_type": "execute_result",
          "data": {
            "image/png": "[encoded data removed]",
            "text/plain": [
              "<IPython.core.display.Image object>"
            ]
          },
          "metadata": {},
          "execution_count": 167
        }
      ]
    },
    {
      "cell_type": "code",
      "source": [
        "# fit network\n",
        "LSTM_model.fit(X_train_pad, y_train, epochs=4, batch_size=128, verbose=2, validation_split=0.1)\n",
        "\n",
        "# save the model\n",
        "# LSTM_model.save('LSTM_model.h5')"
      ],
      "metadata": {
        "colab": {
          "base_uri": "https://localhost:8080/"
        },
        "id": "D7HxlKE1eY0m",
        "outputId": "f76284d4-c519-4f3f-ec79-2fb600d12a72"
      },
      "id": "D7HxlKE1eY0m",
      "execution_count": 168,
      "outputs": [
        {
          "output_type": "stream",
          "name": "stdout",
          "text": [
            "Epoch 1/4\n",
            "45/45 - 12s - loss: 0.5927 - accuracy: 0.7496 - val_loss: 0.4760 - val_accuracy: 0.7492 - 12s/epoch - 257ms/step\n",
            "Epoch 2/4\n",
            "45/45 - 4s - loss: 0.4208 - accuracy: 0.8415 - val_loss: 0.2710 - val_accuracy: 0.8959 - 4s/epoch - 81ms/step\n",
            "Epoch 3/4\n",
            "45/45 - 4s - loss: 0.3245 - accuracy: 0.8949 - val_loss: 0.2588 - val_accuracy: 0.8896 - 4s/epoch - 94ms/step\n",
            "Epoch 4/4\n",
            "45/45 - 5s - loss: 0.2823 - accuracy: 0.9099 - val_loss: 0.2687 - val_accuracy: 0.8912 - 5s/epoch - 102ms/step\n"
          ]
        },
        {
          "output_type": "execute_result",
          "data": {
            "text/plain": [
              "<keras.src.callbacks.History at 0x7ab471113d90>"
            ]
          },
          "metadata": {},
          "execution_count": 168
        }
      ]
    },
    {
      "cell_type": "code",
      "source": [
        "# LSTM model seems overfitting after the 3rd epoch, since the val_loss is increasing in further epochs.\n",
        "# However the lowest val_loss is 0.2588, lower than the CNN model val_loss of 0.2692"
      ],
      "metadata": {
        "id": "sKiPHZHCgj8X"
      },
      "id": "sKiPHZHCgj8X",
      "execution_count": 169,
      "outputs": []
    },
    {
      "cell_type": "code",
      "source": [
        "LSTM_model.evaluate(X_test_pad, y_test, verbose=0)"
      ],
      "metadata": {
        "colab": {
          "base_uri": "https://localhost:8080/"
        },
        "id": "OIzfJPxTeqty",
        "outputId": "f595f1d3-7b69-4206-db4d-c025804f10db"
      },
      "id": "OIzfJPxTeqty",
      "execution_count": 171,
      "outputs": [
        {
          "output_type": "execute_result",
          "data": {
            "text/plain": [
              "[0.2884729504585266, 0.881313145160675]"
            ]
          },
          "metadata": {},
          "execution_count": 171
        }
      ]
    },
    {
      "cell_type": "code",
      "source": [
        "# We get similar accuracy with LSTM model."
      ],
      "metadata": {
        "id": "5AvCqAa-e0kf"
      },
      "id": "5AvCqAa-e0kf",
      "execution_count": 126,
      "outputs": []
    },
    {
      "cell_type": "code",
      "source": [],
      "metadata": {
        "id": "4yff3PkggjEX"
      },
      "id": "4yff3PkggjEX",
      "execution_count": 129,
      "outputs": []
    }
  ],
  "metadata": {
    "kernelspec": {
      "display_name": "Python 3 (ipykernel)",
      "language": "python",
      "name": "python3"
    },
    "language_info": {
      "codemirror_mode": {
        "name": "ipython",
        "version": 3
      },
      "file_extension": ".py",
      "mimetype": "text/x-python",
      "name": "python",
      "nbconvert_exporter": "python",
      "pygments_lexer": "ipython3",
      "version": "3.11.5"
    },
    "colab": {
      "provenance": []
    }
  },
  "nbformat": 4,
  "nbformat_minor": 5
}